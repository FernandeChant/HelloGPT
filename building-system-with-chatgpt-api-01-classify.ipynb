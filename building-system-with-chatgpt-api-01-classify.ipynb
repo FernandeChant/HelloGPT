{
 "cells": [
  {
   "attachments": {},
   "cell_type": "markdown",
   "metadata": {},
   "source": [
    "這裏的程式碼其實也就是 Deeplearning.ai \"Building Systems with the ChatGPT API\" 課程裏面的程式碼的轉譯版。\n",
    "大家可以參考原始課程： [Building Systems with the ChatGPT API](https://learn.deeplearning.ai/chatgpt-building-system/)"
   ]
  },
  {
   "attachments": {},
   "cell_type": "markdown",
   "metadata": {},
   "source": [
    "## 環境的準備： ##\n",
    "1. 使用 os.environ 讀取 openai api key, 請把你的 key 寫到本專案的 .env 檔案內。\n",
    "2. get_completion_from_messages 是工具函式，後方很多地方都會用到它來取得回應。"
   ]
  },
  {
   "cell_type": "code",
   "execution_count": 2,
   "metadata": {},
   "outputs": [],
   "source": [
    "import os\n",
    "import openai\n",
    "from dotenv import load_dotenv, find_dotenv\n",
    "_ = load_dotenv(find_dotenv()) # read local .env file\n",
    "\n",
    "openai.api_key  = os.environ['OPENAI_API_KEY']"
   ]
  },
  {
   "cell_type": "code",
   "execution_count": 3,
   "metadata": {},
   "outputs": [],
   "source": [
    "def get_completion_from_messages(messages, \n",
    "                                 model=\"gpt-3.5-turbo\", \n",
    "                                 temperature=0, \n",
    "                                 max_tokens=500):\n",
    "    response = openai.ChatCompletion.create(\n",
    "        model=model,\n",
    "        messages=messages,\n",
    "        temperature=temperature, \n",
    "        max_tokens=max_tokens,\n",
    "    )\n",
    "    return response.choices[0].message[\"content\"]"
   ]
  },
  {
   "attachments": {},
   "cell_type": "markdown",
   "metadata": {},
   "source": [
    "## 將使用者的訊息做分類 ##"
   ]
  },
  {
   "cell_type": "code",
   "execution_count": 4,
   "metadata": {},
   "outputs": [
    {
     "name": "stdout",
     "output_type": "stream",
     "text": [
      "{\n",
      "    \"primary\": \"帳戶管理\",\n",
      "    \"secondary\": \"關閉帳戶\"\n",
      "}\n"
     ]
    }
   ],
   "source": [
    "delimiter = \"####\"\n",
    "system_message = f\"\"\"\n",
    "將會收到一些客戶服務查詢。 \\\n",
    "每個客戶服務查詢將以 {delimiter} 字元進行分隔。 \\\n",
    "請將每個查詢分類為主要類別和次要類別。 \\\n",
    "並以 json 格式提供你的輸出，鍵值為：primary（主類別）和 secondary（次類別）。 \\\n",
    "\n",
    "Primary（主類別）: 帳單、技術支援、帳戶管理或一般查詢\n",
    "\n",
    "帳單的次類別:\n",
    "取消訂閱或升級\n",
    "增加付款方式\n",
    "收費說明\n",
    "爭議收費\n",
    "\n",
    "技術支援次類別:\n",
    "一般故障排除\n",
    "設備相容性\n",
    "軟體更新\n",
    "\n",
    "帳戶管理次要類別:\n",
    "重設密碼\n",
    "更新個人資訊\n",
    "關閉帳戶\n",
    "帳戶安全\n",
    "\n",
    "一般查詢的次要類別:\n",
    "產品資訊\n",
    "價格\n",
    "反饋\n",
    "與真人客服對話\n",
    "\n",
    "\"\"\"\n",
    "user_message = f\"\"\"\\\n",
    "我要你刪除我的個人資料和所有使用者資料\"\"\"\n",
    "messages =  [  \n",
    "{'role':'system', \n",
    " 'content': system_message},    \n",
    "{'role':'user', \n",
    " 'content': f\"{delimiter}{user_message}{delimiter}\"},  \n",
    "] \n",
    "response = get_completion_from_messages(messages)\n",
    "print(response)"
   ]
  },
  {
   "cell_type": "code",
   "execution_count": null,
   "metadata": {},
   "outputs": [],
   "source": []
  }
 ],
 "metadata": {
  "kernelspec": {
   "display_name": "env",
   "language": "python",
   "name": "python3"
  },
  "language_info": {
   "codemirror_mode": {
    "name": "ipython",
    "version": 3
   },
   "file_extension": ".py",
   "mimetype": "text/x-python",
   "name": "python",
   "nbconvert_exporter": "python",
   "pygments_lexer": "ipython3",
   "version": "3.8.10"
  },
  "orig_nbformat": 4
 },
 "nbformat": 4,
 "nbformat_minor": 2
}

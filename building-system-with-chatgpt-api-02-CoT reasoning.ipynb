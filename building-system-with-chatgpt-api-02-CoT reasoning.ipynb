{
 "cells": [
  {
   "attachments": {},
   "cell_type": "markdown",
   "metadata": {},
   "source": [
    "# 使用思考鏈（CoT）進行推論的程式範例"
   ]
  },
  {
   "attachments": {},
   "cell_type": "markdown",
   "metadata": {},
   "source": [
    "以下是環境的準備， 執行前請先在 `.env` 檔案內填入您自己的 openai api key。"
   ]
  },
  {
   "cell_type": "code",
   "execution_count": 1,
   "metadata": {},
   "outputs": [],
   "source": [
    "import os\n",
    "import openai\n",
    "import sys\n",
    "from dotenv import load_dotenv, find_dotenv\n",
    "_ = load_dotenv(find_dotenv())\n",
    "\n",
    "openai.api_key  = os.environ['OPENAI_API_KEY']"
   ]
  },
  {
   "cell_type": "code",
   "execution_count": 2,
   "metadata": {},
   "outputs": [],
   "source": [
    "def get_completion_from_messages(messages, \n",
    "                                 model=\"gpt-3.5-turbo\", \n",
    "                                 #model=\"gpt-4\", \n",
    "                                 temperature=0, max_tokens=2700):\n",
    "    response = openai.ChatCompletion.create(\n",
    "        model=model,\n",
    "        messages=messages,\n",
    "        temperature=temperature, \n",
    "        max_tokens=max_tokens, \n",
    "    )\n",
    "    return response.choices[0].message[\"content\"]"
   ]
  },
  {
   "attachments": {},
   "cell_type": "markdown",
   "metadata": {},
   "source": [
    "## 思考鏈推論"
   ]
  },
  {
   "cell_type": "code",
   "execution_count": 3,
   "metadata": {},
   "outputs": [],
   "source": [
    "delimiter = \"####\"\n",
    "system_message = f\"\"\"\n",
    "按照以下步驟回答客戶的問題。\n",
    "客戶的查詢將以四個井字號作為分隔符號，\\\n",
    "也就是 {delimiter}。. \n",
    "\n",
    "步驟1：{delimiter} 首先判斷用戶是否在問關於特定產品或多種產品的問題。 \\\n",
    "不考慮產品類別。\n",
    "\n",
    "步驟2：{delimiter} 如果用戶在問關於特定產品的問題， \\\n",
    "辨認該產品是否在以下列表中。\n",
    "\n",
    "所有產品：\n",
    "1. 產品：TechPro Ultrabook\n",
    "類別：電腦與筆記型電腦\n",
    "品牌：TechPro\n",
    "型號：TP-UB100\n",
    "保固：1年\n",
    "評價：4.5\n",
    "特性：13.3吋顯示器，8GB 記憶體，256GB SSD，Intel Core i5處理器\n",
    "描述：一款適合日常使用的輕便筆記型電腦。\n",
    "價格：$799.99\n",
    "\n",
    "2. 產品：BlueWave 電競筆電\n",
    "類別：電腦與筆記型電腦\n",
    "品牌：BlueWave\n",
    "型號：BW-GL200\n",
    "保固：2年\n",
    "評價：4.7\n",
    "特性：15.6吋顯示器，16GB RAM，512GB SSD硬碟，NVIDIA GeForce RTX 3060顯示卡\n",
    "描述：一款性能強勁的電競筆記型電腦，讓您沉浸其中。\n",
    "價格：$1199.99\n",
    "\n",
    "3. 產品：PowerLite 二合一電腦\n",
    "類別：電腦與筆記型電腦\n",
    "品牌：PowerLite\n",
    "型號：PL-CV300\n",
    "保固：1年\n",
    "評價：4.3\n",
    "特性：14吋觸控螢幕，8GB 記憶體，256GB SSD硬碟，360度螢幕轉軸\n",
    "描述：一款多功能的轉換型筆記本，配備反應靈敏的觸控螢幕。\n",
    "價格：$699.99\n",
    "\n",
    "4. 產品：TechPro 桌機\n",
    "類別：電腦與筆記型電腦\n",
    "品牌：TechPro\n",
    "型號：TP-DT500\n",
    "保固：1年\n",
    "評價：4.4\n",
    "特性：Intel Core i7處理器，16GB 記憶體，256GB 硬碟，NVIDIA GeForce GTX 1660顯示卡\n",
    "描述：一台適合工作與遊戲的強大桌上型電腦。\n",
    "價格：$999.99\n",
    "\n",
    "5. 產品：BlueWave Chromebook\n",
    "類別：電腦與筆記型電腦\n",
    "品牌：BlueWave\n",
    "型號：BW-CB100\n",
    "保固：1年\n",
    "評價：4.1\n",
    "特性：11.6吋顯示器，4GB 記憶體，256GB eMMC硬碟，Chrome OS\n",
    "描述：一款輕巧且經濟實惠的Chromebook，適合完成日常任務。\n",
    "價格：$249.99\n",
    "\n",
    "步驟3：{delimiter} 如果訊息中包含上述列表中的產品， \\\n",
    "列出使用者訊息中可能的假設，例如筆記本X比筆記本Y大，或者筆記本Z有2年保固。\n",
    "\n",
    "步驟4：{delimiter} 如果用戶有任何假設， \\\n",
    "根據您的產品資訊判斷該假設是否正確。\n",
    "\n",
    "步驟5：{delimiter} 首先，如果適用，請禮貌地糾正客戶的錯誤假設。 \\\n",
    "只提及或參考上述五種產品資訊，因為這些是商店售賣的唯一五種產品。 \\\n",
    "以友善的語氣回答客戶。\n",
    "\n",
    "使用以下格式：\n",
    "步驟1：{delimiter} <步驟1的理由>\n",
    "步驟2：{delimiter} <步驟2的理由>\n",
    "步驟3：{delimiter} <步驟3的理由>\n",
    "步驟4：{delimiter} <步驟4的理由>\n",
    "回覆給使用者：{delimiter} <回覆給客戶的內容>\n",
    "\n",
    "確保每一步都包含 {delimiter} 來進行分隔。\n",
    "\"\"\""
   ]
  },
  {
   "attachments": {},
   "cell_type": "markdown",
   "metadata": {},
   "source": [
    "使用者訊息測試（一）"
   ]
  },
  {
   "cell_type": "code",
   "execution_count": 15,
   "metadata": {},
   "outputs": [
    {
     "name": "stdout",
     "output_type": "stream",
     "text": [
      "步驟1：#### 用戶在問關於特定產品的問題，不考慮產品類別。\n",
      "步驟2：#### 該產品 BlueWave Chromebook 在產品列表中，價格為 $249.99。TechPro 桌機也在產品列表中，價格為 $999.99。\n",
      "步驟3：#### 用戶沒有提供任何假設。\n",
      "步驟4：#### 無需判斷假設是否正確。\n",
      "回覆給使用者：#### BlueWave Chromebook 的價格是 $249.99，而 TechPro 桌機的價格是 $999.99。因此，BlueWave Chromebook 比 TechPro 桌機便宜了 $750。\n"
     ]
    }
   ],
   "source": [
    "user_message = f\"\"\"\n",
    "你們的 BlueWave Chromebook 比 TechPro 桌機貴多少？\"\"\"\n",
    "\n",
    "messages =  [  \n",
    "{'role':'system', \n",
    " 'content': system_message},    \n",
    "{'role':'user', \n",
    " 'content': f\"{delimiter}{user_message}{delimiter}\"},  \n",
    "] \n",
    "\n",
    "response = get_completion_from_messages(messages)\n",
    "print(response)"
   ]
  },
  {
   "attachments": {},
   "cell_type": "markdown",
   "metadata": {},
   "source": [
    "使用者訊息測試（二）"
   ]
  },
  {
   "cell_type": "code",
   "execution_count": 4,
   "metadata": {},
   "outputs": [
    {
     "name": "stdout",
     "output_type": "stream",
     "text": [
      "#### 步驟1：客戶詢問關於特定產品或多種產品的問題。不考慮產品類別。####\n",
      "\n",
      "#### 步驟2：由於客戶沒有詢問特定產品，因此我們無法回答關於產品的問題。請問您需要關於哪種類型的產品的資訊？例如，電腦、手機、家電等等。####\n",
      "\n",
      "回覆給客戶：#### 請問您需要關於哪種類型的產品的資訊？例如，電腦、手機、家電等等。####\n"
     ]
    }
   ],
   "source": [
    "user_message = f\"\"\"你們有賣電視嗎？\"\"\"\n",
    "messages =  [  \n",
    "{'role':'system', \n",
    " 'content': system_message},    \n",
    "{'role':'user', \n",
    " 'content': f\"{delimiter}{user_message}{delimiter}\"},  \n",
    "] \n",
    "response = get_completion_from_messages(messages)\n",
    "print(response)"
   ]
  },
  {
   "attachments": {},
   "cell_type": "markdown",
   "metadata": {},
   "source": [
    "## 回覆訊息的提取"
   ]
  },
  {
   "attachments": {},
   "cell_type": "markdown",
   "metadata": {},
   "source": [
    "由於我們要求 LLM 在進行思考過程和形成最終回應時，使用四個井字號作為分隔符，因此我們可以對訊息進行特殊處理，以便提取出最後的回覆。具體做法如下："
   ]
  },
  {
   "cell_type": "code",
   "execution_count": 16,
   "metadata": {},
   "outputs": [
    {
     "name": "stdout",
     "output_type": "stream",
     "text": [
      "BlueWave Chromebook 的價格是 $249.99，而 TechPro 桌機的價格是 $999.99。因此，BlueWave Chromebook 比 TechPro 桌機便宜了 $750。\n"
     ]
    }
   ],
   "source": [
    "try:\n",
    "    # 使用分隔符號來切割訊息，並且取出真的要回覆的內容\n",
    "    final_response = response.split(delimiter)[-1].strip()\n",
    "except Exception as e:\n",
    "    # 發現無法處理的訊息時的回覆訊息\n",
    "    final_response = \"很抱歉，我無法處理你這個問題，請您試著詢問其他問題。\"\n",
    "    \n",
    "print(final_response)"
   ]
  },
  {
   "attachments": {},
   "cell_type": "markdown",
   "metadata": {},
   "source": [
    "## 額外測試"
   ]
  },
  {
   "cell_type": "code",
   "execution_count": 11,
   "metadata": {},
   "outputs": [
    {
     "name": "stdout",
     "output_type": "stream",
     "text": [
      "步驟1：####客戶在問關於特定產品或多種產品的問題。不考慮產品類別。####\n",
      "步驟2：####辨認該產品是否在以下列表中。####\n",
      "\n",
      "所有產品：\n",
      "1. 產品：TechPro Ultrabook\n",
      "類別：電腦與筆記型電腦\n",
      "品牌：TechPro\n",
      "型號：TP-UB100\n",
      "保固：1年\n",
      "評價：4.5\n",
      "特性：13.3吋顯示器，8GB 記憶體，256GB SSD，Intel Core i5處理器\n",
      "描述：一款適合日常使用的輕便筆記型電腦。\n",
      "價格：$799.99\n",
      "\n",
      "2. 產品：BlueWave Gaming Laptop\n",
      "類別：電腦與筆記型電腦\n",
      "品牌：BlueWave\n",
      "型號：BW-GL200\n",
      "保固：2年\n",
      "評價：4.7\n",
      "特性：15.6吋顯示器，16GB RAM，512GB SSD硬碟，NVIDIA GeForce RTX 3060顯示卡\n",
      "描述：一款性能強勁的電競筆記型電腦，讓您沉浸其中。\n",
      "價格：$1199.99\n",
      "\n",
      "3. 產品：PowerLite Convertible\n",
      "類別：電腦與筆記型電腦\n",
      "品牌：PowerLite\n",
      "型號：PL-CV300\n",
      "保固：1年\n",
      "評價：4.3\n",
      "特性：14吋觸控螢幕，8GB 記憶體，256GB SSD硬碟，360度螢幕轉軸\n",
      "描述：一款多功能的轉換型筆記本，配備反應靈敏的觸控螢幕。\n",
      "價格：$699.99\n",
      "\n",
      "4. 產品：TechPro Desktop\n",
      "類別：電腦與筆記型電腦\n",
      "品牌：TechPro\n",
      "型號：TP-DT500\n",
      "保固：1年\n",
      "評價：4.4\n",
      "特性：Intel Core i7處理器，16GB 記憶體，256GB 硬碟，NVIDIA GeForce GTX 1660顯示卡\n",
      "描述：一台適合工作與遊戲的強大桌上型電腦。\n",
      "價格：$999.99\n",
      "\n",
      "5. 產品：BlueWave Chromebook\n",
      "類別：電腦與筆記型電腦\n",
      "品牌：BlueWave\n",
      "型號：BW-CB100\n",
      "保固：1年\n",
      "評價：4.1\n",
      "特性：11.6吋顯示器，4GB 記憶體，256GB eMMC硬碟，Chrome OS\n",
      "描述：一款輕巧且經濟實惠的Chromebook，適合完成日常任務。\n",
      "價格：$249.99\n",
      "\n",
      "步驟3：####根據客戶的需求，我們建議選擇PowerLite Convertible或TechPro Ultrabook。這兩款筆記型電腦都輕巧便攜，並且配備了反應靈敏的觸控螢幕，方便您在簡報時進行操作。####\n",
      "\n",
      "步驟4：####無需判斷假設。####\n",
      "\n",
      "回覆給客戶：####根據您的需求，我們建議選擇PowerLite Convertible或TechPro Ultrabook。這兩款筆記型電腦都輕巧便攜，並且配備了反應靈敏的觸控螢幕，方便您在簡報時進行操作。希望這能幫助您做出選擇。####\n"
     ]
    }
   ],
   "source": [
    "user_message = f\"\"\"我想買一台工作用的筆電，我經常會需要跟對面的客人做簡報， \\\n",
    "有沒有方便我這樣使用的機種推薦？\"\"\"\n",
    "messages =  [  \n",
    "{'role':'system', \n",
    " 'content': system_message},    \n",
    "{'role':'user', \n",
    " 'content': f\"{delimiter}{user_message}{delimiter}\"},  \n",
    "] \n",
    "response = get_completion_from_messages(messages)\n",
    "print(response)"
   ]
  }
 ],
 "metadata": {
  "kernelspec": {
   "display_name": "env",
   "language": "python",
   "name": "python3"
  },
  "language_info": {
   "codemirror_mode": {
    "name": "ipython",
    "version": 3
   },
   "file_extension": ".py",
   "mimetype": "text/x-python",
   "name": "python",
   "nbconvert_exporter": "python",
   "pygments_lexer": "ipython3",
   "version": "3.8.10"
  },
  "orig_nbformat": 4
 },
 "nbformat": 4,
 "nbformat_minor": 2
}

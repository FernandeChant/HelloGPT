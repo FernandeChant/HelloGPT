{
 "cells": [
  {
   "attachments": {},
   "cell_type": "markdown",
   "metadata": {},
   "source": [
    "# Evaluation"
   ]
  },
  {
   "cell_type": "code",
   "execution_count": 5,
   "metadata": {},
   "outputs": [],
   "source": [
    "import os\n",
    "import openai\n",
    "import sys\n",
    "sys.path.append('../..')\n",
    "import utils\n",
    "\n",
    "\n",
    "from dotenv import load_dotenv, find_dotenv\n",
    "_ = load_dotenv(find_dotenv()) # read local .env file\n",
    "\n",
    "openai.api_key  = os.environ['OPENAI_API_KEY']"
   ]
  },
  {
   "cell_type": "code",
   "execution_count": 9,
   "metadata": {},
   "outputs": [],
   "source": [
    "def get_completion_from_messages(messages, model=\"gpt-3.5-turbo-16k\", temperature=0, max_tokens=10000):\n",
    "    response = openai.ChatCompletion.create(\n",
    "        model=model,\n",
    "        messages=messages,\n",
    "        temperature=temperature, \n",
    "        max_tokens=max_tokens, \n",
    "    )\n",
    "    return response.choices[0].message[\"content\"]"
   ]
  },
  {
   "attachments": {},
   "cell_type": "markdown",
   "metadata": {},
   "source": [
    "處理使用者訊息的完整架構"
   ]
  },
  {
   "cell_type": "code",
   "execution_count": 13,
   "metadata": {},
   "outputs": [
    {
     "name": "stdout",
     "output_type": "stream",
     "text": [
      "步驟 1： 通過訊息適用度檢查。\n",
      "步驟 2： 提取產品列表。\n",
      "步驟 3： 查詢產品資訊。\n",
      "步驟 4： 生成回應。\n",
      "步驟 5： 回應通過適用度檢查。\n",
      "步驟 6： 模型完成回應的評估。\n",
      "步驟 7： 模型通過回應的評估。\n",
      "關於SmartX ProPhone和FotoSnap相機的資訊如下：\n",
      "\n",
      "SmartX ProPhone是一款功能強大並具有先進照相功能的智慧手機。它擁有6.1吋顯示器、128GB儲存空間、12MP雙鏡頭和5G網路。價格為899.99美元。\n",
      "\n",
      "FotoSnap相機是一款多功能的單眼相機，具有24.2MP感光元件、1080p影片、3吋LCD和可更換鏡頭。價格為599.99美元。\n",
      "\n",
      "我們的電視產品包括CineView 4K液晶電視、CineView 8K液晶電視和CineView OLED電視。CineView 4K液晶電視擁有55吋顯示器、4K解析度、HDR和智慧電視功能，價格為599.99美元。CineView 8K液晶電視擁有65吋顯示器、8K解析度、HDR和智慧電視功能，價格為2999.99美元。CineView OLED電視擁有55吋顯示器、4K解析度、HDR和智慧電視功能，價格為1499.99美元。\n",
      "\n",
      "請問您對這些產品有任何特定的問題嗎？\n"
     ]
    }
   ],
   "source": [
    "def process_user_message(user_input, all_messages, debug=True):\n",
    "    delimiter = \"```\"\n",
    "    \n",
    "    # 步驟 1：使用 Moderation API 來檢查輸入是否違反正常使用規則\n",
    "    response = openai.Moderation.create(input=user_input)\n",
    "    moderation_output = response[\"results\"][0]\n",
    "\n",
    "    if moderation_output[\"flagged\"]:\n",
    "        print(\"步驟 1: 輸入被 Moderation API 檢查出有問題。\")\n",
    "        return \"很抱歉， 我們無法處理這訊息\"\n",
    "\n",
    "    if debug: print(\"步驟 1： 通過訊息適用度檢查。\")\n",
    "    \n",
    "    category_and_product_response = utils.find_category_and_product_only(user_input, utils.get_products_and_category())\n",
    "    #print(f\"category_and_product_response: {category_and_product_response}\")\n",
    "\n",
    "    # 步驟 2：提取產品列表\n",
    "    category_and_product_list = utils.read_string_to_list(category_and_product_response)\n",
    "    #print(f\"category_and_product_list: {category_and_product_list}\")\n",
    "\n",
    "    if debug: print(\"步驟 2： 提取產品列表。\")\n",
    "\n",
    "    # 步驟 3：如果找到產品，則查找它們\n",
    "    product_information = utils.generate_output_string(category_and_product_list)\n",
    "\n",
    "    if debug: \n",
    "        print(f\"步驟 3： 查詢產品資訊。\")\n",
    "        #print(f\"product_information: {product_information}\")\n",
    "\n",
    "    # 步驟 4：回答使用者問題\n",
    "    system_message = f\"\"\"\n",
    "    你是一家大型電子商店的客服助理。\\\n",
    "    以友好和樂於助人的口吻回答，並提供簡潔的答案。\\\n",
    "    請確保向使用者提出相關的後續問題。\"\"\"\n",
    "    messages = [\n",
    "        {'role': 'system', 'content': system_message},\n",
    "        {'role': 'user', 'content': f\"{delimiter}{user_input}{delimiter}\"},\n",
    "        {'role': 'assistant', 'content': f\"Relevant product information:\\n{product_information}\"}\n",
    "    ]\n",
    "\n",
    "    final_response = get_completion_from_messages(all_messages + messages)\n",
    "    if debug:print(f\"步驟 4： 生成回應。\")\n",
    "    all_messages = all_messages + messages[1:]\n",
    "\n",
    "    # 步驟 5：將回應再次傳送給 Moderation API 做適用度檢查\n",
    "    response = openai.Moderation.create(input=final_response)\n",
    "    moderation_output = response[\"results\"][0]\n",
    "\n",
    "    if moderation_output[\"flagged\"]:\n",
    "        if debug: print(\"步驟 5： 回應被 Moderation API 檢查出有問題。\")\n",
    "        return \"很抱歉， 我們無法提供這訊息\"\n",
    "\n",
    "    if debug: print(\"步驟 5： 回應通過適用度檢查。\")\n",
    "\n",
    "    # 步驟 6：詢問模型回應是否足以回答使用者的問題\n",
    "    user_message = f\"\"\"\n",
    "    Customer message: {delimiter}{user_input}{delimiter}\n",
    "    Agent response: {delimiter}{final_response}{delimiter}\n",
    "\n",
    "    是否回應足以回答使用者的問題？ (Y/N)\n",
    "    \"\"\"\n",
    "    messages = [\n",
    "        {'role': 'system', 'content': system_message},\n",
    "        {'role': 'user', 'content': user_message}\n",
    "    ]\n",
    "    evaluation_response = get_completion_from_messages(messages)\n",
    "\n",
    "    if debug: \n",
    "        print(f\"步驟 6： 模型完成回應的評估。\")\n",
    "        #print(f\"evaluation_response: {evaluation_response}\")\n",
    "\n",
    "    # 步驟 7：如果是（通過評估），則使用此回答；如果不是（無法通過評估），則說將使用者連接到人員\n",
    "\n",
    "    if \"Y\" in evaluation_response:   # 使用 \"in\" 而不是 \"==\" 來更安全地處理模型輸出變化（例如，\"Y.\" 或 \"Yes\"）\n",
    "        if debug: print(\"步驟 7： 模型通過回應的評估。\")\n",
    "        return final_response, all_messages\n",
    "    else:\n",
    "        if debug:\n",
    "            print(f\"步驟 7： 模型未通過回應的評估。\")\n",
    "            #print(f\"user_input: {user_input}, final_response: {final_response}\\n\")\n",
    "        neg_str = \"很抱歉， 我們無法提供這訊息，我們將會將您轉接到服務人員。\"\n",
    "        return neg_str, all_messages\n",
    "\n",
    "user_input = \"\"\"\n",
    "告訴我有關SmartX ProPhone和FotoSnap相機的資訊，\n",
    "就是那款數位單眼相機的。另外也告訴我你們的電視有哪些。\n",
    "\"\"\"\n",
    "response,_ = process_user_message(user_input,[])\n",
    "print(response)"
   ]
  },
  {
   "cell_type": "code",
   "execution_count": null,
   "metadata": {},
   "outputs": [],
   "source": []
  }
 ],
 "metadata": {
  "kernelspec": {
   "display_name": "env",
   "language": "python",
   "name": "python3"
  },
  "language_info": {
   "codemirror_mode": {
    "name": "ipython",
    "version": 3
   },
   "file_extension": ".py",
   "mimetype": "text/x-python",
   "name": "python",
   "nbconvert_exporter": "python",
   "pygments_lexer": "ipython3",
   "version": "3.8.10"
  },
  "orig_nbformat": 4
 },
 "nbformat": 4,
 "nbformat_minor": 2
}

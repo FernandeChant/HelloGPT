{
 "cells": [
  {
   "attachments": {},
   "cell_type": "markdown",
   "metadata": {},
   "source": [
    "# Evaluation Part I\n",
    "我們將在這個範例介紹發展提示訊息的流程：  \n",
    "  \n",
    "提示訊息第一個版本的開發  \n",
    "    -> 測試評估  \n",
    "    -> 發生問題  \n",
    "    -> 第二個版本的修正  \n",
    "    -> 確認問題解決  \n",
    "    -> 確認其他部分依然適用  \n",
    "    \n",
    "    到最後的自動化驗證。"
   ]
  },
  {
   "attachments": {},
   "cell_type": "markdown",
   "metadata": {},
   "source": [
    "### 環境設定\n",
    "以下是環境的準備， 執行前請先在 `.env` 檔案內填入您自己的 openai api key。"
   ]
  },
  {
   "cell_type": "code",
   "execution_count": 1,
   "metadata": {},
   "outputs": [],
   "source": [
    "import os\n",
    "import openai\n",
    "import sys\n",
    "sys.path.append('../..')\n",
    "import utils\n",
    "import json\n",
    "from dotenv import load_dotenv, find_dotenv\n",
    "_ = load_dotenv(find_dotenv()) # read local .env file\n",
    "\n",
    "openai.api_key  = os.environ['OPENAI_API_KEY']"
   ]
  },
  {
   "cell_type": "code",
   "execution_count": 2,
   "metadata": {},
   "outputs": [],
   "source": [
    "def get_completion_from_messages(messages, model=\"gpt-3.5-turbo-16k\", temperature=0, max_tokens=500):\n",
    "    response = openai.ChatCompletion.create(\n",
    "        model=model,\n",
    "        messages=messages,\n",
    "        temperature=temperature, \n",
    "        max_tokens=max_tokens, \n",
    "    )\n",
    "    return response.choices[0].message[\"content\"]"
   ]
  },
  {
   "attachments": {},
   "cell_type": "markdown",
   "metadata": {},
   "source": [
    "### 幾個重要的 helper functions"
   ]
  },
  {
   "attachments": {},
   "cell_type": "markdown",
   "metadata": {},
   "source": [
    "helper function 1: 取得各個產品類別以及類別下的產品清單"
   ]
  },
  {
   "cell_type": "code",
   "execution_count": 3,
   "metadata": {},
   "outputs": [
    {
     "data": {
      "text/plain": [
       "{'電腦與筆記型電腦': ['TechPro Ultrabook',\n",
       "  'BlueWave 電競筆電',\n",
       "  'PowerLite 二合一電腦',\n",
       "  'TechPro 桌機',\n",
       "  'BlueWave Chromebook'],\n",
       " '手機和配件': ['SmartX ProPhone',\n",
       "  'MobiTech 行動充電王',\n",
       "  'SmartX MiniPhone',\n",
       "  'MobiTech 無線充電器',\n",
       "  'SmartX 耳機'],\n",
       " '電視和家庭劇院系統': ['CineView 4K 液晶電視',\n",
       "  'SoundMax 家庭劇院',\n",
       "  'CineView 8K 液晶電視',\n",
       "  'SoundMax 音箱',\n",
       "  'CineView OLED 電視'],\n",
       " '遊戲機和配件': ['GameSphere X',\n",
       "  'ProGamer 搖桿',\n",
       "  'GameSphere Y',\n",
       "  'ProGamer 賽車方向盤',\n",
       "  'GameSphere VR 頭盔'],\n",
       " '音響設備': ['AudioPhonic 降噪耳機',\n",
       "  'WaveSound 藍牙喇叭',\n",
       "  'AudioPhonic 真無線耳機',\n",
       "  'WaveSound 音箱',\n",
       "  'AudioPhonic 黑膠唱盤機'],\n",
       " '相機和攝影機': ['FotoSnap 單眼相機',\n",
       "  'ActionCam 4K',\n",
       "  'FotoSnap 無反光鏡相機',\n",
       "  'ZoomMaster 攝影機',\n",
       "  'FotoSnap 拍立得相機']}"
      ]
     },
     "execution_count": 3,
     "metadata": {},
     "output_type": "execute_result"
    }
   ],
   "source": [
    "products_and_category = utils.get_products_and_category()\n",
    "products_and_category"
   ]
  },
  {
   "attachments": {},
   "cell_type": "markdown",
   "metadata": {},
   "source": [
    "helper function 2（版本一）: 由使用者的訊息取得詢問的產品以及類別資訊"
   ]
  },
  {
   "cell_type": "code",
   "execution_count": 4,
   "metadata": {},
   "outputs": [],
   "source": [
    "def find_category_and_product_v1(user_input,products_and_category):\n",
    "\n",
    "    delimiter = \"####\"\n",
    "    system_message = f\"\"\"\n",
    "    您將會收到客戶服務的查詢。\n",
    "    該客戶服務查詢將以 {delimiter} 字符進行分隔。\n",
    "    請輸出一個 Python 列表，其中每個物件都是一個 JSON 物件，每個物件具有以下格式：\n",
    "    'category': <以下其中一種：電腦和筆記本，智慧手機和配件，電視和家庭影院系統，遊戲機和配件，音響設備，相機和攝像機>\n",
    "    和\n",
    "    'products': <必須在下面允許的產品中找到的產品列表內>\n",
    "\n",
    "    類別和產品必須在客戶服務查詢中找到。\n",
    "    如果提到了產品，它必須與下面允許的產品列表中的正確類別相關聯。\n",
    "    如果找不到產品或類別，則輸出一個空列表。\n",
    "\n",
    "    根據產品名稱和產品類別與客戶服務查詢的相關程度，列出所有相關的產品。\n",
    "    不要從產品的名稱推測任何特性或屬性，如相對品質或價格。\n",
    "\n",
    "    允許的產品以 JSON 格式提供。\n",
    "    每個項目的鍵代表類別。\n",
    "    每個項目的值是該類別中的產品列表。\n",
    "    允許的產品：{products_and_category}\n",
    "\n",
    "    \n",
    "    \"\"\"\n",
    "    \n",
    "    few_shot_user_1 = \"\"\"我想要你們最貴的電腦。\"\"\"\n",
    "    few_shot_assistant_1 = \"\"\" \n",
    "    [{'category': '電腦與筆記型電腦', \\\n",
    "    'products': ['TechPro Ultrabook', 'BlueWave 電競筆電', 'PowerLite 二合一電腦', 'TechPro 桌機', 'BlueWave Chromebook']}]\n",
    "    \"\"\"\n",
    "    \n",
    "    messages =  [  \n",
    "    {'role':'system', 'content': system_message},    \n",
    "    {'role':'user', 'content': f\"{delimiter}{few_shot_user_1}{delimiter}\"},  \n",
    "    {'role':'assistant', 'content': few_shot_assistant_1 },\n",
    "    {'role':'user', 'content': f\"{delimiter}{user_input}{delimiter}\"},  \n",
    "    ] \n",
    "    return get_completion_from_messages(messages)\n"
   ]
  },
  {
   "attachments": {},
   "cell_type": "markdown",
   "metadata": {},
   "source": [
    "helper function 2（版本一） 的幾個測試評估查詢"
   ]
  },
  {
   "cell_type": "code",
   "execution_count": 5,
   "metadata": {},
   "outputs": [
    {
     "name": "stdout",
     "output_type": "stream",
     "text": [
      " \n",
      "    [{'category': '電視和家庭劇院系統', 'products': ['CineView 4K 液晶電視', 'SoundMax 家庭劇院', 'CineView 8K 液晶電視', 'SoundMax 音箱', 'CineView OLED 電視']}]\n"
     ]
    }
   ],
   "source": [
    "customer_msg_0 = f\"\"\"如果我有預算限制的話我可以購買哪種電視？\"\"\"\n",
    "\n",
    "products_by_category_0 = find_category_and_product_v1(customer_msg_0,\n",
    "                                                      products_and_category)\n",
    "\n",
    "print(products_by_category_0)"
   ]
  },
  {
   "cell_type": "code",
   "execution_count": 6,
   "metadata": {},
   "outputs": [
    {
     "name": "stdout",
     "output_type": "stream",
     "text": [
      " \n",
      "    [{'category': '手機和配件', 'products': ['MobiTech 行動充電王', 'MobiTech 無線充電器']}]\n"
     ]
    }
   ],
   "source": [
    "customer_msg_1 = f\"\"\"我需要幫我的手機買個充電器\"\"\"\n",
    "\n",
    "products_by_category_1 = find_category_and_product_v1(customer_msg_1,\n",
    "                                                      products_and_category)\n",
    "\n",
    "print(products_by_category_1)"
   ]
  },
  {
   "cell_type": "code",
   "execution_count": 7,
   "metadata": {},
   "outputs": [
    {
     "name": "stdout",
     "output_type": "stream",
     "text": [
      "\n",
      "    [{'category': '電腦與筆記型電腦', 'products': ['TechPro Ultrabook', 'BlueWave 電競筆電', 'PowerLite 二合一電腦', 'TechPro 桌機', 'BlueWave Chromebook']}]\n"
     ]
    }
   ],
   "source": [
    "customer_msg_2 = f\"\"\"\n",
    "你有什麼電腦？\"\"\"\n",
    "\n",
    "products_by_category_2 = find_category_and_product_v1(customer_msg_2,\n",
    "                                                      products_and_category)\n",
    "print(products_by_category_2)"
   ]
  },
  {
   "cell_type": "code",
   "execution_count": 8,
   "metadata": {},
   "outputs": [
    {
     "name": "stdout",
     "output_type": "stream",
     "text": [
      "\n",
      "    [{'category': '手機和配件', 'products': ['SmartX ProPhone']}, {'category': '相機和攝影機', 'products': ['FotoSnap 單眼相機']}, {'category': '電視和家庭劇院系統', 'products': ['CineView 4K 液晶電視', 'SoundMax 家庭劇院', 'CineView 8K 液晶電視', 'SoundMax 音箱', 'CineView OLED 電視']}]\n"
     ]
    }
   ],
   "source": [
    "customer_msg_3 = f\"\"\"\n",
    "告訴我有關SmartX ProPhone和FotoSnap相機的資訊，\n",
    "就是那款數位單眼相機的。另外你們有什麼電視？\"\"\"\n",
    "\n",
    "products_by_category_3 = find_category_and_product_v1(customer_msg_3,\n",
    "                                                      products_and_category)\n",
    "print(products_by_category_3)"
   ]
  },
  {
   "attachments": {},
   "cell_type": "markdown",
   "metadata": {},
   "source": [
    "    較困難的測試項目"
   ]
  },
  {
   "cell_type": "code",
   "execution_count": 9,
   "metadata": {},
   "outputs": [
    {
     "name": "stdout",
     "output_type": "stream",
     "text": [
      " \n",
      "    [{'category': '電視和家庭劇院系統', 'products': ['CineView 8K 液晶電視']}, {'category': '遊戲機和配件', 'products': ['GameSphere X']}]\n",
      "    \n",
      "    對於您的預算限制，我們有以下電腦選擇：\n",
      "    [{'category': '電腦與筆記型電腦', 'products': ['TechPro Ultrabook', 'BlueWave 電競筆電', 'PowerLite 二合一電腦', 'TechPro 桌機', 'BlueWave Chromebook']}]\n"
     ]
    }
   ],
   "source": [
    "customer_msg_4 = f\"\"\"\n",
    "跟我說明一下 CineView 電視，8K 的那一款，還有 Gamesphere 遊戲機，X 一款。\n",
    "我有預算的限制，你們有什麼電腦可以選擇？\n",
    "\"\"\"\n",
    "\n",
    "products_by_category_4 = find_category_and_product_v1(customer_msg_4,\n",
    "                                                      products_and_category)\n",
    "\n",
    "# 預期只回覆 python 物件列表, 但是這個回覆有問題。\n",
    "print(products_by_category_4)"
   ]
  },
  {
   "attachments": {},
   "cell_type": "markdown",
   "metadata": {},
   "source": [
    "### 提示的修正"
   ]
  },
  {
   "cell_type": "code",
   "execution_count": 5,
   "metadata": {},
   "outputs": [],
   "source": [
    "def find_category_and_product_v2(user_input,products_and_category):\n",
    "    \"\"\"\n",
    "    增加： 不要輸出任何不是 JSON 格式的額外文字。\n",
    "\n",
    "    以下的 few shot 的修正，中文的提示加了反而不正常。故省略。\n",
    "    增加： 第二個例子（使用少量提示），用戶要求最便宜的電腦。 \n",
    "    兩個少量提示的例子中，顯示的回應也都是 JSON 格式的完整產品列表。\n",
    "    \"\"\"\n",
    "    delimiter = \"####\"\n",
    "    system_message = f\"\"\"\n",
    "    您將會收到客戶服務的查詢。\n",
    "    該客戶服務查詢將以 {delimiter} 字符進行分隔。\n",
    "    請輸出一個 Python 列表，其中每個物件都是一個 JSON 物件，每個物件具有以下格式：\n",
    "    'category': <以下其中一種：電腦和筆記本，智能手機和配件，電視和家庭影院系統，遊戲機和配件，音響設備，相機和攝像機>\n",
    "    和\n",
    "    'products': <必須在下面允許的產品中找到的產品列表內>\n",
    "    \n",
    "    請不要輸出任何不是 JSON 格式的額外文字。\n",
    "    輸出要求的 JSON 之後，請不要寫任何解釋性的文字。\n",
    "\n",
    "    類別和產品必須在客戶服務查詢中找到。\n",
    "    如果提到了產品，它必須與下面允許的產品列表中的正確類別相關聯。\n",
    "    如果找不到產品或類別，則輸出一個空列表。\n",
    "\n",
    "    根據產品名稱和產品類別與客戶服務查詢的相關程度，列出所有相關的產品。\n",
    "    不要從產品的名稱推測任何特性或屬性，如相對品質或價格。\n",
    "\n",
    "    允許的產品以 JSON 格式提供。\n",
    "    每個項目的鍵代表類別。\n",
    "    每個項目的值是該類別中的產品列表。\n",
    "    允許的產品：{products_and_category}\n",
    "    \n",
    "\n",
    "    \"\"\"\n",
    "    \n",
    "    few_shot_user_1 = \"\"\"我想要最貴的電腦，你有什麼建議？\"\"\"\n",
    "    few_shot_assistant_1 = \"\"\" \n",
    "    [{'category': '電腦與筆記型電腦', \\\n",
    "    'products': ['TechPro Ultrabook', 'BlueWave 電競筆電', 'PowerLite 二合一電腦', 'TechPro 桌機', 'BlueWave Chromebook']}]\n",
    "    \"\"\"\n",
    "    \n",
    "    # 以下的 few shot 的修正，中文的提示加了反而不正常。故省略。\n",
    "    # few_shot_user_2 = \"\"\"我想要最便宜的電腦，你有什麼建議？\"\"\"\n",
    "    # few_shot_assistant_2 = \"\"\" \n",
    "    # [{'category': '電腦與筆記型電腦', \\\n",
    "    # 'products': ['TechPro Ultrabook', 'BlueWave 電競筆電', 'PowerLite 二合一電腦', 'TechPro 桌機', 'BlueWave Chromebook']}]\n",
    "    # \"\"\"\n",
    "    \n",
    "    messages =  [  \n",
    "    {'role':'system', 'content': system_message},    \n",
    "    {'role':'user', 'content': f\"{delimiter}{few_shot_user_1}{delimiter}\"},  \n",
    "    {'role':'assistant', 'content': few_shot_assistant_1 },\n",
    "    #{'role':'user', 'content': f\"{delimiter}{few_shot_user_2}{delimiter}\"},  \n",
    "    #{'role':'assistant', 'content': few_shot_assistant_2 },\n",
    "    {'role':'user', 'content': f\"{delimiter}{user_input}{delimiter}\"},  \n",
    "    ] \n",
    "    return get_completion_from_messages(messages)"
   ]
  },
  {
   "attachments": {},
   "cell_type": "markdown",
   "metadata": {},
   "source": [
    "確認新版提示在有問題的訊息是不是正常了"
   ]
  },
  {
   "attachments": {},
   "cell_type": "markdown",
   "metadata": {},
   "source": [
    "test case 4 "
   ]
  },
  {
   "cell_type": "code",
   "execution_count": 11,
   "metadata": {},
   "outputs": [
    {
     "name": "stdout",
     "output_type": "stream",
     "text": [
      " \n",
      "    [{'category': '電視和家庭劇院系統', 'products': ['CineView 8K 液晶電視']}, {'category': '遊戲機和配件', 'products': ['GameSphere X']}, {'category': '電腦與筆記型電腦', 'products': ['TechPro Ultrabook', 'BlueWave 電競筆電', 'PowerLite 二合一電腦', 'TechPro 桌機', 'BlueWave Chromebook']}]\n"
     ]
    }
   ],
   "source": [
    "customer_msg_4 = f\"\"\"\n",
    "跟我說明一下 CineView 電視，8K 的那一款，還有 Gamesphere 遊戲機，X 一款。\n",
    "我有預算的限制，你們有什麼電腦可以選擇？\n",
    "\"\"\"\n",
    "\n",
    "products_by_category_4 = find_category_and_product_v2(customer_msg_4,\n",
    "                                                      products_and_category)\n",
    "\n",
    "print(products_by_category_4)"
   ]
  },
  {
   "attachments": {},
   "cell_type": "markdown",
   "metadata": {},
   "source": [
    "之前沒有問題的訊息也需要確認沒有受影響"
   ]
  },
  {
   "cell_type": "code",
   "execution_count": 12,
   "metadata": {},
   "outputs": [
    {
     "name": "stdout",
     "output_type": "stream",
     "text": [
      " \n",
      "    [{'category': '電視和家庭劇院系統', 'products': ['CineView 4K 液晶電視', 'SoundMax 家庭劇院', 'CineView 8K 液晶電視', 'SoundMax 音箱', 'CineView OLED 電視']}]\n"
     ]
    }
   ],
   "source": [
    "customer_msg_0 = f\"\"\"如果我有預算限制的話我可以購買哪種電視？\"\"\"\n",
    "\n",
    "products_by_category_0 = find_category_and_product_v2(customer_msg_0,\n",
    "                                                      products_and_category)\n",
    "\n",
    "print(products_by_category_0)"
   ]
  },
  {
   "attachments": {},
   "cell_type": "markdown",
   "metadata": {},
   "source": [
    "### 自動化測試驗證的範例\n",
    "先建立測試集"
   ]
  },
  {
   "cell_type": "code",
   "execution_count": 6,
   "metadata": {},
   "outputs": [],
   "source": [
    "msg_ideal_pairs_set = [\n",
    "    \n",
    "    # eg 0\n",
    "    {'customer_msg':\"\"\"如果我有預算限制的話我可以購買哪種電視？\"\"\",\n",
    "     'ideal_answer':{\n",
    "        '電視和家庭劇院系統':set(\n",
    "            ['CineView 4K 液晶電視', 'SoundMax 家庭劇院', 'CineView 8K 液晶電視', 'SoundMax 音箱', 'CineView OLED 電視']\n",
    "        )}\n",
    "    },\n",
    "\n",
    "    # eg 1\n",
    "    {'customer_msg':\"\"\"我需要幫我的手機買個充電器\"\"\",\n",
    "     'ideal_answer':{\n",
    "        '手機和配件':set(\n",
    "            ['MobiTech 行動充電王', 'MobiTech 無線充電器']\n",
    "        )}\n",
    "    },\n",
    "    # eg 2\n",
    "    {'customer_msg':f\"\"\"你有什麼電腦？\"\"\",\n",
    "     'ideal_answer':{\n",
    "           '電腦與筆記型電腦':set(\n",
    "               ['TechPro Ultrabook', 'BlueWave 電競筆電', 'PowerLite 二合一電腦', 'TechPro 桌機', 'BlueWave Chromebook'\n",
    "               ])\n",
    "                }\n",
    "    },\n",
    "\n",
    "    # eg 3\n",
    "    {'customer_msg':f\"\"\"告訴我有關SmartX ProPhone和FotoSnap相機的資訊，\\\n",
    "      就是那款數位單眼相機的。另外你們有什麼電視？\"\"\",\n",
    "     'ideal_answer':{\n",
    "        '手機和配件':set(\n",
    "            ['SmartX ProPhone']),\n",
    "        '相機和攝影機':set(\n",
    "            ['FotoSnap 單眼相機']),\n",
    "        '電視和家庭劇院系統':set(\n",
    "            ['CineView 4K 液晶電視', 'SoundMax 家庭劇院', 'CineView 8K 液晶電視', 'SoundMax 音箱', 'CineView OLED 電視'])\n",
    "        }\n",
    "    }, \n",
    "    \n",
    "    # eg 4\n",
    "    {'customer_msg':\"\"\"跟我說明一下 CineView 電視，8K 的那一款，還有 Gamesphere 遊戲機，X 一款。\n",
    "      我有預算的限制，你們有什麼電腦可以選擇？\"\"\",\n",
    "     'ideal_answer':{\n",
    "        '電視和家庭劇院系統':set(\n",
    "            ['CineView 8K 液晶電視']),\n",
    "        '遊戲機和配件':set(\n",
    "            ['GameSphere X']),\n",
    "        '電腦與筆記型電腦':set(\n",
    "            ['TechPro Ultrabook', 'BlueWave 電競筆電', 'PowerLite 二合一電腦', 'TechPro 桌機', 'BlueWave Chromebook'])\n",
    "        }\n",
    "    },\n",
    "    \n",
    "    # eg 5\n",
    "    {'customer_msg':f\"\"\"你有哪些智慧手機？\"\"\",\n",
    "     'ideal_answer':{\n",
    "        '手機和配件':set(\n",
    "            ['SmartX ProPhone', 'MobiTech 行動充電王', 'SmartX MiniPhone', 'MobiTech 無線充電器', 'SmartX 耳機'\n",
    "            ])\n",
    "        }\n",
    "    },\n",
    "    # eg 6\n",
    "    {'customer_msg':f\"\"\"如果我有預算限制.  你可以推薦一些智慧手機給我嗎？\"\"\",\n",
    "     'ideal_answer':{\n",
    "        '手機和配件':set(\n",
    "            ['SmartX 耳機', 'SmartX MiniPhone', 'MobiTech 行動充電王', 'SmartX ProPhone', 'MobiTech 無線充電器']\n",
    "        )}\n",
    "    },\n",
    "\n",
    "    # eg 7 # this will output a subset of the ideal answer\n",
    "    {'customer_msg':f\"\"\"如果我朋友打算參加電競比賽，有什麼遊戲機適合我們朋友的？\"\"\",\n",
    "     'ideal_answer':{\n",
    "        '遊戲機和配件':set([\n",
    "            'GameSphere X',\n",
    "            'ProGamer 搖桿',\n",
    "            'GameSphere Y',\n",
    "            'ProGamer 賽車方向盤',\n",
    "            'GameSphere VR 頭盔'\n",
    "     ])}\n",
    "    },\n",
    "    # eg 8\n",
    "    {'customer_msg':f\"\"\"你有什麼東西適合送給我從事攝影的朋友當作禮物？\"\"\",\n",
    "     'ideal_answer': {\n",
    "        '相機和攝影機':set([\n",
    "        'FotoSnap 單眼相機', 'ActionCam 4K', 'FotoSnap 無反光鏡相機', 'ZoomMaster 攝影機', 'FotoSnap 拍立得相機'\n",
    "        ])}\n",
    "    },\n",
    "    \n",
    "    # eg 9\n",
    "    {'customer_msg':f\"\"\"我想要一台時光機浴缸。\"\"\",\n",
    "     'ideal_answer': []\n",
    "    }\n",
    "    \n",
    "]"
   ]
  },
  {
   "attachments": {},
   "cell_type": "markdown",
   "metadata": {},
   "source": [
    "helper function 3: 比較回應的產品類別以及產品清單的理想值的差異性"
   ]
  },
  {
   "cell_type": "code",
   "execution_count": 7,
   "metadata": {},
   "outputs": [],
   "source": [
    "import json\n",
    "def eval_response_with_ideal(response,\n",
    "                              ideal,\n",
    "                              debug=False):\n",
    "    \n",
    "    if debug:\n",
    "        print(\"回應內容： \")\n",
    "        print(response)\n",
    "    \n",
    "    # json.loads() 只能讀取雙引號字串，無法讀取單引號字串\n",
    "    json_like_str = response.replace(\"'\",'\"')\n",
    "    \n",
    "    # 讀取為 dict list\n",
    "    l_of_d = json.loads(json_like_str)\n",
    "    \n",
    "    # 如果兩者都是空值時\n",
    "    if l_of_d == [] and ideal == []:\n",
    "        return 1\n",
    "    \n",
    "    # 如果兩者只有其中一個是空值時，明顯有錯誤。\n",
    "    elif l_of_d == [] or ideal == []:\n",
    "        return 0\n",
    "    \n",
    "    correct = 0    \n",
    "    \n",
    "    if debug:\n",
    "        print(\"l_of_d： \")\n",
    "        print(l_of_d)\n",
    "    for d in l_of_d:\n",
    "\n",
    "        cat = d.get('category')\n",
    "        prod_l = d.get('products')\n",
    "        if cat and prod_l:\n",
    "            # 轉換為 set 以便比較\n",
    "            prod_set = set(prod_l)\n",
    "\n",
    "            # 取得理想回覆中的產品類別\n",
    "            ideal_cat = ideal.get(cat)\n",
    "            if ideal_cat:\n",
    "                # 轉換為 set 以便比較\n",
    "                prod_set_ideal = set(ideal.get(cat))\n",
    "            else:\n",
    "                if debug:\n",
    "                    print(f\"無法在理想回覆中找到 {cat} 類別\")\n",
    "                    print(f\"理想回覆: {ideal}\")\n",
    "                continue\n",
    "                \n",
    "            if debug:\n",
    "                print(\"prod_set\\n\",prod_set)\n",
    "                print()\n",
    "                print(\"prod_set_ideal\\n\",prod_set_ideal)\n",
    "\n",
    "            # 檢查實際回應是否為理想回覆的子集\n",
    "            if prod_set == prod_set_ideal:\n",
    "                # 如果實際回應是理想回覆的子集，則正確\n",
    "                if debug:\n",
    "                    print(\"正確\")\n",
    "                correct +=1\n",
    "            else:\n",
    "                # 如果實際回應不是理想回覆的子集，則檢查是否為理想回覆的超集\n",
    "                print(\"不正確\")\n",
    "                print(f\"prod_set: {prod_set}\")\n",
    "                print(f\"prod_set_ideal: {prod_set_ideal}\")\n",
    "                if prod_set <= prod_set_ideal:\n",
    "                    print(\"實際回應只是理想回覆的子集\")\n",
    "                elif prod_set >= prod_set_ideal:\n",
    "                    print(\"實際回應是理想回覆的超集\")\n",
    "\n",
    "    # 計算正確率\n",
    "    pc_correct = correct / len(l_of_d)\n",
    "        \n",
    "    return pc_correct"
   ]
  },
  {
   "cell_type": "code",
   "execution_count": 16,
   "metadata": {},
   "outputs": [
    {
     "name": "stdout",
     "output_type": "stream",
     "text": [
      "Customer message: 如果我朋友打算參加電競比賽，有什麼遊戲機適合我們朋友的？\n",
      "Ideal answer: {'遊戲機和配件': {'ProGamer 賽車方向盤', 'ProGamer 搖桿', 'GameSphere VR 頭盔', 'GameSphere Y', 'GameSphere X'}}\n"
     ]
    }
   ],
   "source": [
    "print(f'Customer message: {msg_ideal_pairs_set[7][\"customer_msg\"]}')\n",
    "print(f'Ideal answer: {msg_ideal_pairs_set[7][\"ideal_answer\"]}')"
   ]
  },
  {
   "cell_type": "code",
   "execution_count": 17,
   "metadata": {},
   "outputs": [
    {
     "name": "stdout",
     "output_type": "stream",
     "text": [
      "Response: \n",
      "    [{'category': '遊戲機和配件', 'products': ['GameSphere X', 'ProGamer 搖桿', 'GameSphere Y', 'ProGamer 賽車方向盤', 'GameSphere VR 頭盔']}]\n"
     ]
    },
    {
     "data": {
      "text/plain": [
       "1.0"
      ]
     },
     "execution_count": 17,
     "metadata": {},
     "output_type": "execute_result"
    }
   ],
   "source": [
    "response = find_category_and_product_v2(msg_ideal_pairs_set[7][\"customer_msg\"],\n",
    "                                         products_and_category)\n",
    "print(f'Response: {response}')\n",
    "\n",
    "eval_response_with_ideal(response,\n",
    "                              msg_ideal_pairs_set[7][\"ideal_answer\"])"
   ]
  },
  {
   "attachments": {},
   "cell_type": "markdown",
   "metadata": {},
   "source": [
    "執行所有的測試案例並且計算正確率"
   ]
  },
  {
   "cell_type": "code",
   "execution_count": 8,
   "metadata": {},
   "outputs": [
    {
     "name": "stdout",
     "output_type": "stream",
     "text": [
      "範例 0\n",
      "0: 1.0\n",
      "範例 1\n",
      "1: 1.0\n",
      "範例 2\n",
      "2: 1.0\n",
      "範例 3\n",
      "3: 1.0\n",
      "範例 4\n",
      "4: 1.0\n",
      "範例 5\n",
      "5: 1.0\n",
      "範例 6\n",
      "6: 1.0\n",
      "範例 7\n",
      "7: 1.0\n",
      "範例 8\n",
      "8: 1.0\n",
      "範例 9\n",
      "9: 1\n",
      "10 個測試案例的正確率 : 1.0\n"
     ]
    }
   ],
   "source": [
    "import time\n",
    "\n",
    "# 請注意，這個在任一個 api 呼叫逾時時，就會失敗。\n",
    "score_accum = 0\n",
    "for i, pair in enumerate(msg_ideal_pairs_set):\n",
    "    print(f\"範例 {i}\")\n",
    "    \n",
    "    customer_msg = pair['customer_msg']\n",
    "    ideal = pair['ideal_answer']\n",
    "\n",
    "    # 從 customer_msg 找出產品類別和產品名稱    \n",
    "    # print(\"Customer message\",customer_msg)\n",
    "    # print(\"ideal:\",ideal)\n",
    "    response = find_category_and_product_v2(customer_msg,\n",
    "                                                      products_and_category)\n",
    "\n",
    "    \n",
    "    # 計算正確率\n",
    "    # print(\"products_by_category\",products_by_category)\n",
    "    score = eval_response_with_ideal(response, ideal, debug=False)\n",
    "    print(f\"{i}: {score}\")\n",
    "    score_accum += score\n",
    "\n",
    "    # 等待 20 秒。免費版的 openapi 有每分鐘 3 次的呼叫限制，如果確定沒有問題，可以把這行註解掉。\n",
    "    #print(\"等待 20 秒。\\n\")\n",
    "    time.sleep(20)\n",
    "    \n",
    "\n",
    "# 計算所有範例的正確率\n",
    "n_examples = len(msg_ideal_pairs_set)\n",
    "fraction_correct = score_accum / n_examples\n",
    "print(f\"{n_examples} 個測試案例的正確率 : {fraction_correct}\")"
   ]
  },
  {
   "cell_type": "code",
   "execution_count": null,
   "metadata": {},
   "outputs": [],
   "source": []
  }
 ],
 "metadata": {
  "kernelspec": {
   "display_name": "env",
   "language": "python",
   "name": "python3"
  },
  "language_info": {
   "codemirror_mode": {
    "name": "ipython",
    "version": 3
   },
   "file_extension": ".py",
   "mimetype": "text/x-python",
   "name": "python",
   "nbconvert_exporter": "python",
   "pygments_lexer": "ipython3",
   "version": "3.8.10"
  },
  "orig_nbformat": 4
 },
 "nbformat": 4,
 "nbformat_minor": 2
}
